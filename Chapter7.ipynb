{
 "cells": [
  {
   "cell_type": "code",
   "execution_count": 1,
   "id": "dbdff4f7",
   "metadata": {},
   "outputs": [],
   "source": [
    "# Chapter7"
   ]
  },
  {
   "cell_type": "code",
   "execution_count": 2,
   "id": "3fb1cf3b",
   "metadata": {},
   "outputs": [
    {
     "name": "stdout",
     "output_type": "stream",
     "text": [
      "[1980, 1981, 1982, 1983, 1984, 1985]\n"
     ]
    }
   ],
   "source": [
    "# 7 - 1\n",
    "year_list = list(range(1980,1986))\n",
    "print(year_list)"
   ]
  },
  {
   "cell_type": "code",
   "execution_count": 3,
   "id": "4cdcb687",
   "metadata": {},
   "outputs": [
    {
     "name": "stdout",
     "output_type": "stream",
     "text": [
      "1983\n"
     ]
    }
   ],
   "source": [
    "# 7 - 2\n",
    "print(year_list[3])"
   ]
  },
  {
   "cell_type": "code",
   "execution_count": 4,
   "id": "d3d8540f",
   "metadata": {},
   "outputs": [
    {
     "name": "stdout",
     "output_type": "stream",
     "text": [
      "1985\n"
     ]
    }
   ],
   "source": [
    "# 7 - 3\n",
    "print(year_list[-1])"
   ]
  },
  {
   "cell_type": "code",
   "execution_count": 5,
   "id": "09624d8f",
   "metadata": {},
   "outputs": [
    {
     "name": "stdout",
     "output_type": "stream",
     "text": [
      "['mozzarella', 'cinderella', 'salmonella']\n"
     ]
    }
   ],
   "source": [
    "# 7 - 4\n",
    "things = ['mozzarella','cinderella','salmonella']\n",
    "print(things)"
   ]
  },
  {
   "cell_type": "code",
   "execution_count": 6,
   "id": "6540f798",
   "metadata": {},
   "outputs": [
    {
     "name": "stdout",
     "output_type": "stream",
     "text": [
      "Mozzarella\n",
      "Cinderella\n",
      "Salmonella\n",
      "['mozzarella', 'cinderella', 'salmonella']\n"
     ]
    }
   ],
   "source": [
    "# 7 - 5\n",
    "for thing in things:\n",
    "    print(thing.capitalize())\n",
    "print(things)"
   ]
  },
  {
   "cell_type": "code",
   "execution_count": 7,
   "id": "50908515",
   "metadata": {},
   "outputs": [
    {
     "name": "stdout",
     "output_type": "stream",
     "text": [
      "['Mozzarella', 'Cinderella', 'Salmonella']\n"
     ]
    }
   ],
   "source": [
    "# 7 - 6\n",
    "for index in range(0,len(things)):\n",
    "    things[index] = things[index].capitalize()\n",
    "print(things)"
   ]
  },
  {
   "cell_type": "code",
   "execution_count": 8,
   "id": "631f03ef",
   "metadata": {},
   "outputs": [
    {
     "name": "stdout",
     "output_type": "stream",
     "text": [
      "['Mozzarella', 'Cinderella']\n"
     ]
    }
   ],
   "source": [
    "# 7 - 7\n",
    "things.pop();\n",
    "print(things)"
   ]
  },
  {
   "cell_type": "code",
   "execution_count": 9,
   "id": "8edce042",
   "metadata": {},
   "outputs": [
    {
     "name": "stdout",
     "output_type": "stream",
     "text": [
      "['Groucho', 'Chico', 'Harpo']\n"
     ]
    }
   ],
   "source": [
    "# 7 - 8\n",
    "surpries = ['Groucho','Chico','Harpo']\n",
    "print(surpries)"
   ]
  },
  {
   "cell_type": "code",
   "execution_count": 10,
   "id": "2abaa901",
   "metadata": {},
   "outputs": [
    {
     "name": "stdout",
     "output_type": "stream",
     "text": [
      "['Groucho', 'Chico', 'Oprah']\n"
     ]
    }
   ],
   "source": [
    "# 7 - 9\n",
    "surpries[-1] = surpries[-1].lower()[::-1]\n",
    "surpries[-1] = surpries[-1].capitalize()\n",
    "print(surpries)"
   ]
  },
  {
   "cell_type": "code",
   "execution_count": 11,
   "id": "c9ea3444",
   "metadata": {},
   "outputs": [
    {
     "name": "stdout",
     "output_type": "stream",
     "text": [
      "[0, 2, 4, 6, 8]\n"
     ]
    }
   ],
   "source": [
    "# 7 - 10\n",
    "even = [number for number in range(10) if number % 2 == 0]\n",
    "print(even)"
   ]
  },
  {
   "cell_type": "code",
   "execution_count": 12,
   "id": "7401c871",
   "metadata": {},
   "outputs": [
    {
     "name": "stdout",
     "output_type": "stream",
     "text": [
      "Fee! Fie! Foe! Flop!\n",
      "Someone better get a mop.\n",
      "Fee! Fie! Foe! Fope!\n",
      "Someone better turn the rope.\n",
      "Fee! Fie! Foe! Fa!\n",
      "Someone better get your ma.\n",
      "Fee! Fie! Foe! Fudge!\n",
      "Someone better call the judge.\n",
      "Fee! Fie! Foe! Fat!\n",
      "Someone better pet the cat.\n",
      "Fee! Fie! Foe! Fog!\n",
      "Someone better pet the dog.\n",
      "Fee! Fie! Foe! Fun!\n",
      "Someone better say we're done.\n"
     ]
    }
   ],
   "source": [
    "# 7 - 11\n",
    "start1 = ['fee','fie','foe']\n",
    "rhymes = [\n",
    "    ('flop','get a mop'),\n",
    "    ('fope','turn the rope'),\n",
    "    ('fa','get your ma'),\n",
    "    ('fudge','call the judge'),\n",
    "    ('fat','pet the cat'),\n",
    "    ('fog','pet the dog'),\n",
    "    ('fun',\"say we're done\"),\n",
    "]\n",
    "start2 = \"Someone better\"\n",
    "song_1 = '! '.join(start1).title()\n",
    "for first, second in rhymes:\n",
    "    print(f'{song_1}! {first.capitalize()}!')\n",
    "    print(f'{start2} {second}.')"
   ]
  }
 ],
 "metadata": {
  "kernelspec": {
   "display_name": "Python 3",
   "language": "python",
   "name": "python3"
  },
  "language_info": {
   "codemirror_mode": {
    "name": "ipython",
    "version": 3
   },
   "file_extension": ".py",
   "mimetype": "text/x-python",
   "name": "python",
   "nbconvert_exporter": "python",
   "pygments_lexer": "ipython3",
   "version": "3.8.8"
  }
 },
 "nbformat": 4,
 "nbformat_minor": 5
}
