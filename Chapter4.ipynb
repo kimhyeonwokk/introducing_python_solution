{
 "cells": [
  {
   "cell_type": "code",
   "execution_count": 1,
   "id": "7031ca92",
   "metadata": {},
   "outputs": [],
   "source": [
    "# Chapter4"
   ]
  },
  {
   "cell_type": "code",
   "execution_count": 2,
   "id": "85df6988",
   "metadata": {},
   "outputs": [
    {
     "name": "stdout",
     "output_type": "stream",
     "text": [
      "too high\n"
     ]
    }
   ],
   "source": [
    "# 4 - 1\n",
    "import random\n",
    "secret = random.randint(1,10)\n",
    "guess = random.randint(1,10)\n",
    "if secret == guess:\n",
    "    print(\"just right\")\n",
    "elif secret > guess:\n",
    "    print(\"too low\")\n",
    "else:\n",
    "    print(\"too high\")"
   ]
  },
  {
   "cell_type": "code",
   "execution_count": 3,
   "id": "12fa68e4",
   "metadata": {},
   "outputs": [
    {
     "name": "stdout",
     "output_type": "stream",
     "text": [
      "cherry\n"
     ]
    }
   ],
   "source": [
    "small = True\n",
    "green = False\n",
    "if small == True and green == True:\n",
    "    print(\"pea\")\n",
    "elif small == True and green == False:\n",
    "    print(\"cherry\")\n",
    "elif small == False and green == True:\n",
    "    print(\"watermelon\")\n",
    "else:\n",
    "    print(\"pumpkin\")"
   ]
  }
 ],
 "metadata": {
  "kernelspec": {
   "display_name": "Python 3",
   "language": "python",
   "name": "python3"
  },
  "language_info": {
   "codemirror_mode": {
    "name": "ipython",
    "version": 3
   },
   "file_extension": ".py",
   "mimetype": "text/x-python",
   "name": "python",
   "nbconvert_exporter": "python",
   "pygments_lexer": "ipython3",
   "version": "3.8.8"
  }
 },
 "nbformat": 4,
 "nbformat_minor": 5
}
