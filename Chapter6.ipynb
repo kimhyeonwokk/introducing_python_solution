{
 "cells": [
  {
   "cell_type": "code",
   "execution_count": 1,
   "id": "92a82e7a",
   "metadata": {},
   "outputs": [],
   "source": [
    "# Chapter6"
   ]
  },
  {
   "cell_type": "code",
   "execution_count": 4,
   "id": "52dd48c3",
   "metadata": {},
   "outputs": [
    {
     "name": "stdout",
     "output_type": "stream",
     "text": [
      "3 2 1 0 "
     ]
    }
   ],
   "source": [
    "# 6 - 1\n",
    "numbers = [3,2,1,0]\n",
    "for number in numbers:\n",
    "    print(number,end=\" \")"
   ]
  },
  {
   "cell_type": "code",
   "execution_count": 7,
   "id": "8b151fdf",
   "metadata": {},
   "outputs": [
    {
     "name": "stdout",
     "output_type": "stream",
     "text": [
      "too low 1\n",
      "too low 2\n",
      "too low 3\n",
      "too low 4\n",
      "too low 5\n",
      "too low 6\n",
      "fount it! 7\n"
     ]
    }
   ],
   "source": [
    "# 6 - 2\n",
    "guess_me = 7\n",
    "number = 1\n",
    "while True:\n",
    "    if number == guess_me:\n",
    "        print('fount it!',number)\n",
    "        break\n",
    "    elif number < guess_me:\n",
    "        print('too low',number)\n",
    "    else:\n",
    "        print('opps',number)\n",
    "    number += 1"
   ]
  },
  {
   "cell_type": "code",
   "execution_count": null,
   "id": "8a59f606",
   "metadata": {},
   "outputs": [],
   "source": [
    "# 6 - 3\n",
    "guess_me = 5\n",
    "for number in range(10):\n",
    "    if number == guess_me:\n",
    "        print('fount it!',number)\n",
    "        break\n",
    "    elif number < guess_me:\n",
    "        print('too low',number)\n",
    "    else:\n",
    "        pri"
   ]
  }
 ],
 "metadata": {
  "kernelspec": {
   "display_name": "Python 3",
   "language": "python",
   "name": "python3"
  },
  "language_info": {
   "codemirror_mode": {
    "name": "ipython",
    "version": 3
   },
   "file_extension": ".py",
   "mimetype": "text/x-python",
   "name": "python",
   "nbconvert_exporter": "python",
   "pygments_lexer": "ipython3",
   "version": "3.8.8"
  }
 },
 "nbformat": 4,
 "nbformat_minor": 5
}
