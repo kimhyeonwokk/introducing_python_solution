{
 "cells": [
  {
   "cell_type": "code",
   "execution_count": 8,
   "id": "30b3924f",
   "metadata": {},
   "outputs": [],
   "source": [
    "# Chapter1"
   ]
  },
  {
   "cell_type": "code",
   "execution_count": 2,
   "id": "cb6ac6ef",
   "metadata": {},
   "outputs": [
    {
     "name": "stdout",
     "output_type": "stream",
     "text": [
      "Python 3.8.8\n"
     ]
    }
   ],
   "source": [
    "# 1 - 1\n",
    "# 다음과 같은 Python version은 설치 하였다.\n",
    "!python --version"
   ]
  },
  {
   "cell_type": "code",
   "execution_count": 3,
   "id": "af1d762d",
   "metadata": {},
   "outputs": [],
   "source": [
    "# 1 - 2\n",
    "# 대화식 인터프리터 사용법은 다음과 같이 블로그에 작성 하였다.\n",
    "# python은 입력하면된다.\n",
    "# https://inha-kim.tistory.com/33"
   ]
  },
  {
   "cell_type": "code",
   "execution_count": 5,
   "id": "05ec03b9",
   "metadata": {},
   "outputs": [
    {
     "data": {
      "text/plain": [
       "72"
      ]
     },
     "execution_count": 5,
     "metadata": {},
     "output_type": "execute_result"
    }
   ],
   "source": [
    "# 1 - 3\n",
    "# 대화식 인터프리터에 8*9를 입력하면 72가 출력 된다\n",
    "8*9"
   ]
  },
  {
   "cell_type": "code",
   "execution_count": 6,
   "id": "137b0914",
   "metadata": {},
   "outputs": [
    {
     "data": {
      "text/plain": [
       "47"
      ]
     },
     "execution_count": 6,
     "metadata": {},
     "output_type": "execute_result"
    }
   ],
   "source": [
    "# 1 - 4\n",
    "# 숫자 47를 입력하고 enter를 치면 47이 출력 된다\n",
    "47"
   ]
  },
  {
   "cell_type": "code",
   "execution_count": 7,
   "id": "c30a3939",
   "metadata": {},
   "outputs": [
    {
     "name": "stdout",
     "output_type": "stream",
     "text": [
      "47\n"
     ]
    }
   ],
   "source": [
    "# 1 - 5\n",
    "# print(47) 를 압력하면 47이 출력 된다\n",
    "print(47)"
   ]
  }
 ],
 "metadata": {
  "kernelspec": {
   "display_name": "Python 3",
   "language": "python",
   "name": "python3"
  },
  "language_info": {
   "codemirror_mode": {
    "name": "ipython",
    "version": 3
   },
   "file_extension": ".py",
   "mimetype": "text/x-python",
   "name": "python",
   "nbconvert_exporter": "python",
   "pygments_lexer": "ipython3",
   "version": "3.8.8"
  }
 },
 "nbformat": 4,
 "nbformat_minor": 5
}
