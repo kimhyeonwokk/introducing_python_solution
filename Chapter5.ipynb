{
 "cells": [
  {
   "cell_type": "code",
   "execution_count": 1,
   "id": "fe003e1e",
   "metadata": {},
   "outputs": [],
   "source": [
    "# chapter5"
   ]
  },
  {
   "cell_type": "code",
   "execution_count": 3,
   "id": "47b42ace",
   "metadata": {},
   "outputs": [
    {
     "name": "stdout",
     "output_type": "stream",
     "text": [
      "When an eel grabs your arm,\n",
      "And it causes great harm,\n",
      "That's - a Moray!\n"
     ]
    }
   ],
   "source": [
    "# 5 - 1\n",
    "song = \"\"\"When an eel grabs your arm,\n",
    "And it causes great harm,\n",
    "That's - a moray!\"\"\"\n",
    "print(song.replace(' m',\" M\"))"
   ]
  },
  {
   "cell_type": "code",
   "execution_count": 5,
   "id": "58adce88",
   "metadata": {},
   "outputs": [
    {
     "name": "stdout",
     "output_type": "stream",
     "text": [
      "We don't serve strings around here. Are you a string?\n",
      "An exploding sheep.\n",
      "\n",
      "\n",
      "What is said on Father's Day in the forest?\n",
      "No,Im a frayed knot.\n",
      "\n",
      "\n",
      "What makes the sound 'Sis! Boom! Bah!?'\n",
      "'Pop!' goes the weasel.\n",
      "\n",
      "\n"
     ]
    }
   ],
   "source": [
    "# 5 - 2\n",
    "question = [\"We don't serve strings around here. Are you a string?\",\n",
    "           \"What is said on Father's Day in the forest?\",\n",
    "            \"What makes the sound 'Sis! Boom! Bah!?'\"]\n",
    "answer = [\"An exploding sheep.\",\n",
    "         \"No,Im a frayed knot.\",\n",
    "         \"'Pop!' goes the weasel.\"]\n",
    "for i in range(3):\n",
    "    print(question[i])\n",
    "    print(answer[i])\n",
    "    print(\"\\n\")"
   ]
  },
  {
   "cell_type": "code",
   "execution_count": 5,
   "id": "cf46f9ba",
   "metadata": {},
   "outputs": [
    {
     "name": "stdout",
     "output_type": "stream",
     "text": [
      "My kitty cat likes roast beef,\n",
      "My kitty cat likes ham,\n",
      "My kitty cat fell on his head And now thinks he's a clam,\n"
     ]
    }
   ],
   "source": [
    "# 5 - 3\n",
    "print(\"My kitty cat likes %s,\" % 'roast beef')\n",
    "print(\"My kitty cat likes %s,\" % 'ham')\n",
    "print(\"My kitty cat fell on his %s And now thinks he's a %s,\" %(\"head\",\"clam\"))"
   ]
  },
  {
   "cell_type": "code",
   "execution_count": 12,
   "id": "76b8b6b9",
   "metadata": {},
   "outputs": [],
   "source": [
    "# 5 - 4\n",
    "letter = \"\"\"Dear {salutation} {name},\n",
    "Thank you for your letter. We are sorry that out {product} {verbed} in your {room}.\n",
    "please note that it should never be used in a {room}, especially near any {animals}.\n",
    "\n",
    "send us your receipt and {amount} for shipping and handling.\n",
    "We will send you another {product} that, in our tests, is {percent}% less likely to have {verbed}.\n",
    "Thank you for your support.\n",
    "Sincerely,\n",
    "{spokesman}\n",
    "{job_title}\"\"\""
   ]
  },
  {
   "cell_type": "code",
   "execution_count": 13,
   "id": "1534416a",
   "metadata": {},
   "outputs": [
    {
     "name": "stdout",
     "output_type": "stream",
     "text": [
      "Dear Mr kim hyeon woo,\n",
      "Thank you for your letter. We are sorry that out computer graphic in your house.\n",
      "please note that it should never be used in a house, especially near any dog.\n",
      "\n",
      "send us your receipt and 100 for shipping and handling.\n",
      "We will send you another computer that, in our tests, is 100% less likely to have graphic.\n",
      "Thank you for your support.\n",
      "Sincerely,\n",
      "oh tae\n",
      "major\n"
     ]
    }
   ],
   "source": [
    "# 5 - 5\n",
    "print(letter.format(salutation = 'Mr', name = 'kim hyeon woo', product = 'computer', \\\n",
    "              verbed = 'graphic', room = 'house', animals = 'dog', amount = '100', \\\n",
    "              percent ='100', spokesman = 'oh tae', job_title = 'major'))"
   ]
  },
  {
   "cell_type": "code",
   "execution_count": 6,
   "id": "e92f019c",
   "metadata": {},
   "outputs": [
    {
     "name": "stdout",
     "output_type": "stream",
     "text": [
      "ducky Mcduckface\n",
      "gourdy Mcgourdface\n",
      "spitzy Mcspitzface\n"
     ]
    }
   ],
   "source": [
    "# 5 - 6\n",
    "name = ['duck','gourd','spitz']\n",
    "for na in name:\n",
    "    print('%sy Mc%sface' % (na,na))"
   ]
  },
  {
   "cell_type": "code",
   "execution_count": 8,
   "id": "556ba121",
   "metadata": {},
   "outputs": [
    {
     "name": "stdout",
     "output_type": "stream",
     "text": [
      "ducky Mcduckface\n",
      "gourdy Mcgourdface\n",
      "spitzy Mcspitzface\n"
     ]
    }
   ],
   "source": [
    "# 5 - 7\n",
    "name = ['duck','gourd','spitz']\n",
    "for na in name:\n",
    "    print('{nam}y Mc{nam}face'.format(nam = na))"
   ]
  },
  {
   "cell_type": "code",
   "execution_count": 10,
   "id": "5bcdeb04",
   "metadata": {},
   "outputs": [
    {
     "name": "stdout",
     "output_type": "stream",
     "text": [
      "ducky Mcduckface\n",
      "gourdy Mcgourdface\n",
      "spitzy Mcspitzface\n"
     ]
    }
   ],
   "source": [
    "# 5 - 8\n",
    "name = ['duck','gourd','spitz']\n",
    "for na in name:\n",
    "    print(f'{na}y Mc{na}face')"
   ]
  }
 ],
 "metadata": {
  "kernelspec": {
   "display_name": "Python 3",
   "language": "python",
   "name": "python3"
  },
  "language_info": {
   "codemirror_mode": {
    "name": "ipython",
    "version": 3
   },
   "file_extension": ".py",
   "mimetype": "text/x-python",
   "name": "python",
   "nbconvert_exporter": "python",
   "pygments_lexer": "ipython3",
   "version": "3.8.8"
  }
 },
 "nbformat": 4,
 "nbformat_minor": 5
}
