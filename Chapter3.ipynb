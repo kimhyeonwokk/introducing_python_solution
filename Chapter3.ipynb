{
 "cells": [
  {
   "cell_type": "code",
   "execution_count": 1,
   "id": "5821b239",
   "metadata": {},
   "outputs": [],
   "source": [
    "# Chapter3"
   ]
  },
  {
   "cell_type": "code",
   "execution_count": 2,
   "id": "88b1583b",
   "metadata": {},
   "outputs": [
    {
     "name": "stdout",
     "output_type": "stream",
     "text": [
      "3600\n"
     ]
    }
   ],
   "source": [
    "# 3 - 1\n",
    "# 1시간은 60 * 60 이다\n",
    "print(60 * 60)"
   ]
  },
  {
   "cell_type": "code",
   "execution_count": 3,
   "id": "a46e444a",
   "metadata": {},
   "outputs": [],
   "source": [
    "# 3 - 2\n",
    "# 계산한 결과를 저장하자\n",
    "second_per_hour = 60 * 60"
   ]
  },
  {
   "cell_type": "code",
   "execution_count": 4,
   "id": "f83eae36",
   "metadata": {},
   "outputs": [
    {
     "name": "stdout",
     "output_type": "stream",
     "text": [
      "86400\n"
     ]
    }
   ],
   "source": [
    "# 3 - 3\n",
    "# 1일은 second_per_hour * 24 하면 된다\n",
    "print(second_per_hour * 24)"
   ]
  },
  {
   "cell_type": "code",
   "execution_count": 5,
   "id": "483242b0",
   "metadata": {},
   "outputs": [],
   "source": [
    "# 3 - 4\n",
    "# 계산한 결과를 second_per_day 변수에 저장한다\n",
    "second_per_day = second_per_hour * 24"
   ]
  },
  {
   "cell_type": "code",
   "execution_count": 6,
   "id": "9bdd13ba",
   "metadata": {},
   "outputs": [
    {
     "name": "stdout",
     "output_type": "stream",
     "text": [
      "24.0\n"
     ]
    }
   ],
   "source": [
    "# 3 - 5\n",
    "# 부동소수점 나눗셈 / 를 이용해보자\n",
    "print(second_per_day / second_per_hour)"
   ]
  },
  {
   "cell_type": "code",
   "execution_count": 7,
   "id": "74e8d75e",
   "metadata": {},
   "outputs": [
    {
     "name": "stdout",
     "output_type": "stream",
     "text": [
      "24\n"
     ]
    }
   ],
   "source": [
    "# 3 - 6\n",
    "# 정수 나눗셈 // 를 이용 해보자\n",
    "print(second_per_day // second_per_hour)"
   ]
  }
 ],
 "metadata": {
  "kernelspec": {
   "display_name": "Python 3",
   "language": "python",
   "name": "python3"
  },
  "language_info": {
   "codemirror_mode": {
    "name": "ipython",
    "version": 3
   },
   "file_extension": ".py",
   "mimetype": "text/x-python",
   "name": "python",
   "nbconvert_exporter": "python",
   "pygments_lexer": "ipython3",
   "version": "3.8.8"
  }
 },
 "nbformat": 4,
 "nbformat_minor": 5
}
